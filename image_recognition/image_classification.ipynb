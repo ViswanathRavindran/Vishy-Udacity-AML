{
 "cells": [
  {
   "cell_type": "markdown",
   "metadata": {
    "collapsed": true
   },
   "source": [
    "# Image Classification\n",
    "In this project, you'll classify images from the [CIFAR-10 dataset](https://www.cs.toronto.edu/~kriz/cifar.html).  The dataset consists of airplanes, dogs, cats, and other objects. You'll preprocess the images, then train a convolutional neural network on all the samples. The images need to be normalized and the labels need to be one-hot encoded.  You'll get to apply what you learned and build a convolutional, max pooling, dropout, and fully connected layers.  At the end, you'll get to see your neural network's predictions on the sample images.\n",
    "## Get the Data\n",
    "Run the following cell to download the [CIFAR-10 dataset for python](https://www.cs.toronto.edu/~kriz/cifar-10-python.tar.gz)."
   ]
  },
  {
   "cell_type": "code",
   "execution_count": 1,
   "metadata": {},
   "outputs": [
    {
     "name": "stderr",
     "output_type": "stream",
     "text": [
      "/anaconda3/lib/python3.6/site-packages/h5py/__init__.py:36: FutureWarning: Conversion of the second argument of issubdtype from `float` to `np.floating` is deprecated. In future, it will be treated as `np.float64 == np.dtype(float).type`.\n",
      "  from ._conv import register_converters as _register_converters\n",
      "CIFAR-10 Dataset: 171MB [01:59, 1.42MB/s]                              \n"
     ]
    },
    {
     "name": "stdout",
     "output_type": "stream",
     "text": [
      "All files found!\n"
     ]
    }
   ],
   "source": [
    "\"\"\"\n",
    "DON'T MODIFY ANYTHING IN THIS CELL THAT IS BELOW THIS LINE\n",
    "\"\"\"\n",
    "from urllib.request import urlretrieve\n",
    "from os.path import isfile, isdir\n",
    "from tqdm import tqdm\n",
    "import problem_unittests as tests\n",
    "import tarfile\n",
    "\n",
    "cifar10_dataset_folder_path = 'cifar-10-batches-py'\n",
    "\n",
    "class DLProgress(tqdm):\n",
    "    last_block = 0\n",
    "\n",
    "    def hook(self, block_num=1, block_size=1, total_size=None):\n",
    "        self.total = total_size\n",
    "        self.update((block_num - self.last_block) * block_size)\n",
    "        self.last_block = block_num\n",
    "\n",
    "if not isfile('cifar-10-python.tar.gz'):\n",
    "    with DLProgress(unit='B', unit_scale=True, miniters=1, desc='CIFAR-10 Dataset') as pbar:\n",
    "        urlretrieve(\n",
    "            'https://www.cs.toronto.edu/~kriz/cifar-10-python.tar.gz',\n",
    "            'cifar-10-python.tar.gz',\n",
    "            pbar.hook)\n",
    "\n",
    "if not isdir(cifar10_dataset_folder_path):\n",
    "    with tarfile.open('cifar-10-python.tar.gz') as tar:\n",
    "        tar.extractall()\n",
    "        tar.close()\n",
    "\n",
    "\n",
    "tests.test_folder_path(cifar10_dataset_folder_path)"
   ]
  },
  {
   "cell_type": "markdown",
   "metadata": {},
   "source": [
    "## Explore the Data\n",
    "The dataset is broken into batches to prevent your machine from running out of memory.  The CIFAR-10 dataset consists of 5 batches, named `data_batch_1`, `data_batch_2`, etc.. Each batch contains the labels and images that are one of the following:\n",
    "* airplane\n",
    "* automobile\n",
    "* bird\n",
    "* cat\n",
    "* deer\n",
    "* dog\n",
    "* frog\n",
    "* horse\n",
    "* ship\n",
    "* truck\n",
    "\n",
    "Understanding a dataset is part of making predictions on the data.  Play around with the code cell below by changing the `batch_id` and `sample_id`. The `batch_id` is the id for a batch (1-5). The `sample_id` is the id for a image and label pair in the batch.\n",
    "\n",
    "Ask yourself \"What are all possible labels?\", \"What is the range of values for the image data?\", \"Are the labels in order or random?\".  Answers to questions like these will help you preprocess the data and end up with better predictions."
   ]
  },
  {
   "cell_type": "code",
   "execution_count": 6,
   "metadata": {},
   "outputs": [
    {
     "name": "stdout",
     "output_type": "stream",
     "text": [
      "\n",
      "Stats of batch 2:\n",
      "Samples: 10000\n",
      "Label Counts: {0: 984, 1: 1007, 2: 1010, 3: 995, 4: 1010, 5: 988, 6: 1008, 7: 1026, 8: 987, 9: 985}\n",
      "First 20 Labels: [1, 6, 6, 8, 8, 3, 4, 6, 0, 6, 0, 3, 6, 6, 5, 4, 8, 3, 2, 6]\n",
      "\n",
      "Example of Image 13:\n",
      "Image - Min Value: 6 Max Value: 255\n",
      "Image - Shape: (32, 32, 3)\n",
      "Label - Label Id: 6 Name: frog\n"
     ]
    },
    {
     "data": {
      "image/png": "[encoded data removed]",
      "text/plain": [
       "<Figure size 432x288 with 1 Axes>"
      ]
     },
     "metadata": {
      "image/png": {
       "height": 250,
       "width": 253
      }
     },
     "output_type": "display_data"
    }
   ],
   "source": [
    "%matplotlib inline\n",
    "%config InlineBackend.figure_format = 'retina'\n",
    "\n",
    "import helper\n",
    "import numpy as np\n",
    "\n",
    "# Explore the dataset\n",
    "batch_id = 2\n",
    "sample_id = 13\n",
    "helper.display_stats(cifar10_dataset_folder_path, batch_id, sample_id)"
   ]
  },
  {
   "cell_type": "markdown",
   "metadata": {},
   "source": [
    "## Implement Preprocess Functions\n",
    "### Normalize\n",
    "In the cell below, implement the `normalize` function to take in image data, `x`, and return it as a normalized Numpy array. The values should be in the range of 0 to 1, inclusive.  The return object should be the same shape as `x`."
   ]
  },
  {
   "cell_type": "code",
   "execution_count": 8,
   "metadata": {},
   "outputs": [
    {
     "name": "stdout",
     "output_type": "stream",
     "text": [
      "Tests Passed\n"
     ]
    }
   ],
   "source": [
    "def normalize(x):\n",
    "    \"\"\"\n",
    "    Normalize a list of sample image data in the range of 0 to 1\n",
    "    : x: List of image data.  The image shape is (32, 32, 3)\n",
    "    : return: Numpy array of normalize data\n",
    "    \"\"\"\n",
    "    # TODO: Implement Function\n",
    "    # Definine the max and min values of the image (faster this way than looking for them inside the array)\n",
    "    XMin = 0.\n",
    "    XMax = 255.\n",
    "    # Define the new max and min values\n",
    "    NewMax = 1.\n",
    "    NewMin = 0.\n",
    "    # Convert the input to a numpy array\n",
    "    xarr = np.array(x)\n",
    "    # Apply transform\n",
    "    xarr = (xarr - XMin)*(NewMax - NewMin)/(XMax - XMin) + NewMin\n",
    "    return xarr\n",
    "\n",
    "\n",
    "\"\"\"\n",
    "DON'T MODIFY ANYTHING IN THIS CELL THAT IS BELOW THIS LINE\n",
    "\"\"\"\n",
    "tests.test_normalize(normalize)"
   ]
  },
  {
   "cell_type": "markdown",
   "metadata": {},
   "source": [
    "### One-hot encode\n",
    "Just like the previous code cell, you'll be implementing a function for preprocessing.  This time, you'll implement the `one_hot_encode` function. The input, `x`, are a list of labels.  Implement the function to return the list of labels as One-Hot encoded Numpy array.  The possible values for labels are 0 to 9. The one-hot encoding function should return the same encoding for each value between each call to `one_hot_encode`.  Make sure to save the map of encodings outside the function.\n",
    "\n",
    "**Hint:**\n",
    "\n",
    "Look into LabelBinarizer in the preprocessing module of sklearn."
   ]
  },
  {
   "cell_type": "code",
   "execution_count": 10,
   "metadata": {},
   "outputs": [
    {
     "name": "stdout",
     "output_type": "stream",
     "text": [
      "Tests Passed\n"
     ]
    }
   ],
   "source": [
    "from sklearn.preprocessing import LabelBinarizer \n",
    "def one_hot_encode(x):\n",
    "    \"\"\"\n",
    "    One hot encode a list of sample labels. Return a one-hot encoded vector for each label.\n",
    "    : x: List of sample Labels\n",
    "    : return: Numpy array of one-hot encoded labels\n",
    "    \"\"\"\n",
    "    # The size of the vector to one encode\n",
    "    encoding_size = 10\n",
    "    # Use the sklearn library to one encode our incoming vector (taking it outside the function \n",
    "    # can be more efficient)\n",
    "    encoder = LabelBinarizer().fit(np.arange(encoding_size, dtype=np.float32))\n",
    "    return encoder.transform(x)\n",
    "\n",
    "\"\"\"\n",
    "DON'T MODIFY ANYTHING IN THIS CELL THAT IS BELOW THIS LINE\n",
    "\"\"\"\n",
    "tests.test_one_hot_encode(one_hot_encode)"
   ]
  },
  {
   "cell_type": "markdown",
   "metadata": {},
   "source": [
    "### Randomize Data\n",
    "As you saw from exploring the data above, the order of the samples are randomized.  It doesn't hurt to randomize it again, but you don't need to for this dataset."
   ]
  },
  {
   "cell_type": "markdown",
   "metadata": {},
   "source": [
    "## Preprocess all the data and save it\n",
    "Running the code cell below will preprocess all the CIFAR-10 data and save it to file. The code below also uses 10% of the training data for validation."
   ]
  },
  {
   "cell_type": "code",
   "execution_count": 11,
   "metadata": {},
   "outputs": [],
   "source": [
    "\"\"\"\n",
    "DON'T MODIFY ANYTHING IN THIS CELL\n",
    "\"\"\"\n",
    "# Preprocess Training, Validation, and Testing Data\n",
    "helper.preprocess_and_save_data(cifar10_dataset_folder_path, normalize, one_hot_encode)"
   ]
  },
  {
   "cell_type": "markdown",
   "metadata": {},
   "source": [
    "# Check Point\n",
    "This is your first checkpoint.  If you ever decide to come back to this notebook or have to restart the notebook, you can start from here.  The preprocessed data has been saved to disk."
   ]
  },
  {
   "cell_type": "code",
   "execution_count": 12,
   "metadata": {},
   "outputs": [],
   "source": [
    "\"\"\"\n",
    "DON'T MODIFY ANYTHING IN THIS CELL\n",
    "\"\"\"\n",
    "import pickle\n",
    "import problem_unittests as tests\n",
    "import helper\n",
    "\n",
    "# Load the Preprocessed Validation data\n",
    "valid_features, valid_labels = pickle.load(open('preprocess_validation.p', mode='rb'))"
   ]
  },
  {
   "cell_type": "markdown",
   "metadata": {},
   "source": [
    "## Build the network\n",
    "For the neural network, you'll build each layer into a function.  Most of the code you've seen has been outside of functions. To test your code more thoroughly, we require that you put each layer in a function.  This allows us to give you better feedback and test for simple mistakes using our unittests before you submit your project.\n",
    "\n",
    ">**Note:** If you're finding it hard to dedicate enough time for this course each week, we've provided a small shortcut to this part of the project. In the next couple of problems, you'll have the option to use classes from the [TensorFlow Layers](https://www.tensorflow.org/api_docs/python/tf/layers) or [TensorFlow Layers (contrib)](https://www.tensorflow.org/api_guides/python/contrib.layers) packages to build each layer, except the layers you build in the \"Convolutional and Max Pooling Layer\" section.  TF Layers is similar to Keras's and TFLearn's abstraction to layers, so it's easy to pickup.\n",
    "\n",
    ">However, if you would like to get the most out of this course, try to solve all the problems _without_ using anything from the TF Layers packages. You **can** still use classes from other packages that happen to have the same name as ones you find in TF Layers! For example, instead of using the TF Layers version of the `conv2d` class, [tf.layers.conv2d](https://www.tensorflow.org/api_docs/python/tf/layers/conv2d), you would want to use the TF Neural Network version of `conv2d`, [tf.nn.conv2d](https://www.tensorflow.org/api_docs/python/tf/nn/conv2d). \n",
    "\n",
    "Let's begin!\n",
    "\n",
    "### Input\n",
    "The neural network needs to read the image data, one-hot encoded labels, and dropout keep probability. Implement the following functions\n",
    "* Implement `neural_net_image_input`\n",
    " * Return a [TF Placeholder](https://www.tensorflow.org/api_docs/python/tf/placeholder)\n",
    " * Set the shape using `image_shape` with batch size set to `None`.\n",
    " * Name the TensorFlow placeholder \"x\" using the TensorFlow `name` parameter in the [TF Placeholder](https://www.tensorflow.org/api_docs/python/tf/placeholder).\n",
    "* Implement `neural_net_label_input`\n",
    " * Return a [TF Placeholder](https://www.tensorflow.org/api_docs/python/tf/placeholder)\n",
    " * Set the shape using `n_classes` with batch size set to `None`.\n",
    " * Name the TensorFlow placeholder \"y\" using the TensorFlow `name` parameter in the [TF Placeholder](https://www.tensorflow.org/api_docs/python/tf/placeholder).\n",
    "* Implement `neural_net_keep_prob_input`\n",
    " * Return a [TF Placeholder](https://www.tensorflow.org/api_docs/python/tf/placeholder) for dropout keep probability.\n",
    " * Name the TensorFlow placeholder \"keep_prob\" using the TensorFlow `name` parameter in the [TF Placeholder](https://www.tensorflow.org/api_docs/python/tf/placeholder).\n",
    "\n",
    "These names will be used at the end of the project to load your saved model.\n",
    "\n",
    "Note: `None` for shapes in TensorFlow allow for a dynamic size."
   ]
  },
  {
   "cell_type": "code",
   "execution_count": 14,
   "metadata": {},
   "outputs": [
    {
     "name": "stdout",
     "output_type": "stream",
     "text": [
      "Image Input Tests Passed.\n",
      "Label Input Tests Passed.\n",
      "Keep Prob Tests Passed.\n"
     ]
    }
   ],
   "source": [
    "import tensorflow as tf\n",
    "\n",
    "def neural_net_image_input(image_shape):\n",
    "    \"\"\"\n",
    "    Return a Tensor for a batch of image input\n",
    "    : image_shape: Shape of the images\n",
    "    : return: Tensor for image input.\n",
    "    \"\"\"\n",
    "    return tf.placeholder(tf.float32, shape=((None,) + image_shape), name='x')\n",
    "\n",
    "\n",
    "def neural_net_label_input(n_classes):\n",
    "    \"\"\"\n",
    "    Return a Tensor for a batch of label input\n",
    "    : n_classes: Number of classes\n",
    "    : return: Tensor for label input.\n",
    "    \"\"\"\n",
    "    return tf.placeholder(tf.float32, shape=(None, n_classes), name='y')\n",
    "\n",
    "\n",
    "def neural_net_keep_prob_input():\n",
    "    \"\"\"\n",
    "    Return a Tensor for keep probability\n",
    "    : return: Tensor for keep probability.\n",
    "    \"\"\"\n",
    "    return tf.placeholder(tf.float32, shape=(None), name='keep_prob')\n",
    "\n",
    "\n",
    "\"\"\"\n",
    "DON'T MODIFY ANYTHING IN THIS CELL THAT IS BELOW THIS LINE\n",
    "\"\"\"\n",
    "tf.reset_default_graph()\n",
    "tests.test_nn_image_inputs(neural_net_image_input)\n",
    "tests.test_nn_label_inputs(neural_net_label_input)\n",
    "tests.test_nn_keep_prob_inputs(neural_net_keep_prob_input)"
   ]
  },
  {
   "cell_type": "markdown",
   "metadata": {},
   "source": [
    "### Convolution and Max Pooling Layer\n",
    "Convolution layers have a lot of success with images. For this code cell, you should implement the function `conv2d_maxpool` to apply convolution then max pooling:\n",
    "* Create the weight and bias using `conv_ksize`, `conv_num_outputs` and the shape of `x_tensor`.\n",
    "* Apply a convolution to `x_tensor` using weight and `conv_strides`.\n",
    " * We recommend you use same padding, but you're welcome to use any padding.\n",
    "* Add bias\n",
    "* Add a nonlinear activation to the convolution.\n",
    "* Apply Max Pooling using `pool_ksize` and `pool_strides`.\n",
    " * We recommend you use same padding, but you're welcome to use any padding.\n",
    "\n",
    "**Note:** You **can't** use [TensorFlow Layers](https://www.tensorflow.org/api_docs/python/tf/layers) or [TensorFlow Layers (contrib)](https://www.tensorflow.org/api_guides/python/contrib.layers) for **this** layer, but you can still use TensorFlow's [Neural Network](https://www.tensorflow.org/api_docs/python/tf/nn) package. You may still use the shortcut option for all the **other** layers.\n",
    "\n",
    "** Hint: **\n",
    "\n",
    "When unpacking values as an argument in Python, look into the [unpacking](https://docs.python.org/3/tutorial/controlflow.html#unpacking-argument-lists) operator. "
   ]
  },
  {
   "cell_type": "code",
   "execution_count": 15,
   "metadata": {},
   "outputs": [
    {
     "name": "stdout",
     "output_type": "stream",
     "text": [
      "Tests Passed\n"
     ]
    }
   ],
   "source": [
    "def conv2d_maxpool(x_tensor, conv_num_outputs, conv_ksize, conv_strides, pool_ksize, pool_strides):\n",
    "    \"\"\"\n",
    "    Apply convolution then max pooling to x_tensor\n",
    "    :param x_tensor: TensorFlow Tensor\n",
    "    :param conv_num_outputs: Number of outputs for the convolutional layer\n",
    "    :param conv_ksize: kernal size 2-D Tuple for the convolutional layer\n",
    "    :param conv_strides: Stride 2-D Tuple for convolution\n",
    "    :param pool_ksize: kernal size 2-D Tuple for pool\n",
    "    :param pool_strides: Stride 2-D Tuple for pool\n",
    "    : return: A tensor that represents convolution and max pooling of x_tensor\n",
    "    \"\"\"\n",
    "    weight = tf.Variable(tf.random_normal([conv_ksize[0],\n",
    "                                           conv_ksize[1],\n",
    "                                           x_tensor.get_shape().as_list()[-1], \n",
    "                                           conv_num_outputs],\n",
    "                                         stddev=0.1))\n",
    "    bias = tf.Variable(tf.zeros(conv_num_outputs, dtype=tf.float32))\n",
    "    conv_layer = tf.nn.conv2d(x_tensor, weight, strides=[1, conv_strides[0], conv_strides[1], 1], padding='SAME')\n",
    "    conv_layer = tf.nn.bias_add(conv_layer, bias)\n",
    "    conv_layer = tf.nn.relu(conv_layer)\n",
    "    conv_layer = tf.nn.max_pool(conv_layer, \n",
    "                                ksize=[1, pool_ksize[0], pool_ksize[1], 1], \n",
    "                                strides=[1, pool_strides[0], pool_strides[1], 1],\n",
    "                                padding='SAME')\n",
    "    return conv_layer\n",
    "\n",
    "\n",
    "\"\"\"\n",
    "DON'T MODIFY ANYTHING IN THIS CELL THAT IS BELOW THIS LINE\n",
    "\"\"\"\n",
    "tests.test_con_pool(conv2d_maxpool)"
   ]
  },
  {
   "cell_type": "markdown",
   "metadata": {},
   "source": [
    "### Flatten Layer\n",
    "Implement the `flatten` function to change the dimension of `x_tensor` from a 4-D tensor to a 2-D tensor.  The output should be the shape (*Batch Size*, *Flattened Image Size*). Shortcut option: you can use classes from the [TensorFlow Layers](https://www.tensorflow.org/api_docs/python/tf/layers) or [TensorFlow Layers (contrib)](https://www.tensorflow.org/api_guides/python/contrib.layers) packages for this layer. For more of a challenge, only use other TensorFlow packages."
   ]
  },
  {
   "cell_type": "code",
   "execution_count": 16,
   "metadata": {},
   "outputs": [
    {
     "name": "stdout",
     "output_type": "stream",
     "text": [
      "Tests Passed\n"
     ]
    }
   ],
   "source": [
    "def flatten(x_tensor):\n",
    "    \"\"\"\n",
    "    Flatten x_tensor to (Batch Size, Flattened Image Size)\n",
    "    : x_tensor: A tensor of size (Batch Size, ...), where ... are the image dimensions.\n",
    "    : return: A tensor of size (Batch Size, Flattened Image Size).\n",
    "    \"\"\"\n",
    "    tensor_shape = x_tensor.get_shape().as_list()\n",
    "    # Get the length of the flattened dimensions.\n",
    "    flattened_shape = np.array(tensor_shape[1:]).prod()\n",
    "    # Batch size is casted by tf.shape.\n",
    "    return tf.reshape(x_tensor, [tf.shape(x_tensor)[0], flattened_shape])\n",
    "\n",
    "\n",
    "\"\"\"\n",
    "DON'T MODIFY ANYTHING IN THIS CELL THAT IS BELOW THIS LINE\n",
    "\"\"\"\n",
    "tests.test_flatten(flatten)"
   ]
  },
  {
   "cell_type": "markdown",
   "metadata": {},
   "source": [
    "### Fully-Connected Layer\n",
    "Implement the `fully_conn` function to apply a fully connected layer to `x_tensor` with the shape (*Batch Size*, *num_outputs*). Shortcut option: you can use classes from the [TensorFlow Layers](https://www.tensorflow.org/api_docs/python/tf/layers) or [TensorFlow Layers (contrib)](https://www.tensorflow.org/api_guides/python/contrib.layers) packages for this layer. For more of a challenge, only use other TensorFlow packages."
   ]
  },
  {
   "cell_type": "code",
   "execution_count": 17,
   "metadata": {},
   "outputs": [
    {
     "name": "stdout",
     "output_type": "stream",
     "text": [
      "Tests Passed\n"
     ]
    }
   ],
   "source": [
    "def fully_conn(x_tensor, num_outputs):\n",
    "    \"\"\"\n",
    "    Apply a fully connected layer to x_tensor using weight and bias\n",
    "    : x_tensor: A 2-D tensor where the first dimension is batch size.\n",
    "    : num_outputs: The number of output that the new tensor should be.\n",
    "    : return: A 2-D tensor where the second dimension is num_outputs.\n",
    "    \"\"\"\n",
    "    num_features = x_tensor.shape[1].value\n",
    "    weights = tf.Variable(tf.random_normal([num_features, num_outputs], stddev=0.05))\n",
    "    biases = tf.Variable(tf.zeros([num_outputs]))\n",
    "    full_connect = tf.add(tf.matmul(x_tensor, weights), biases)\n",
    "    full_connect = tf.nn.relu(full_connect)\n",
    "    return full_connect\n",
    "\n",
    "\n",
    "\"\"\"\n",
    "DON'T MODIFY ANYTHING IN THIS CELL THAT IS BELOW THIS LINE\n",
    "\"\"\"\n",
    "tests.test_fully_conn(fully_conn)"
   ]
  },
  {
   "cell_type": "markdown",
   "metadata": {},
   "source": [
    "### Output Layer\n",
    "Implement the `output` function to apply a fully connected layer to `x_tensor` with the shape (*Batch Size*, *num_outputs*). Shortcut option: you can use classes from the [TensorFlow Layers](https://www.tensorflow.org/api_docs/python/tf/layers) or [TensorFlow Layers (contrib)](https://www.tensorflow.org/api_guides/python/contrib.layers) packages for this layer. For more of a challenge, only use other TensorFlow packages.\n",
    "\n",
    "**Note:** Activation, softmax, or cross entropy should **not** be applied to this."
   ]
  },
  {
   "cell_type": "code",
   "execution_count": 18,
   "metadata": {},
   "outputs": [
    {
     "name": "stdout",
     "output_type": "stream",
     "text": [
      "Tests Passed\n"
     ]
    }
   ],
   "source": [
    "def output(x_tensor, num_outputs):\n",
    "    \"\"\"\n",
    "    Apply a output layer to x_tensor using weight and bias\n",
    "    : x_tensor: A 2-D tensor where the first dimension is batch size.\n",
    "    : num_outputs: The number of output that the new tensor should be.\n",
    "    : return: A 2-D tensor where the second dimension is num_outputs.\n",
    "    \"\"\"\n",
    "    flattened_shape = np.array(x_tensor.get_shape().as_list()[1:]).prod()\n",
    "    # Define trainable variables.\n",
    "    weights = tf.Variable(tf.truncated_normal([flattened_shape, num_outputs], stddev=0.04))\n",
    "    bias = tf.Variable(tf.zeros([num_outputs]))\n",
    "    output = tf.matmul(x_tensor, weights)\n",
    "    output = tf.add(output, bias)\n",
    "    # Output layer.    \n",
    "    return output\n",
    "\n",
    "\n",
    "\"\"\"\n",
    "DON'T MODIFY ANYTHING IN THIS CELL THAT IS BELOW THIS LINE\n",
    "\"\"\"\n",
    "tests.test_output(output)"
   ]
  },
  {
   "cell_type": "markdown",
   "metadata": {},
   "source": [
    "### Create Convolutional Model\n",
    "Implement the function `conv_net` to create a convolutional neural network model. The function takes in a batch of images, `x`, and outputs logits.  Use the layers you created above to create this model:\n",
    "\n",
    "* Apply 1, 2, or 3 Convolution and Max Pool layers\n",
    "* Apply a Flatten Layer\n",
    "* Apply 1, 2, or 3 Fully Connected Layers\n",
    "* Apply an Output Layer\n",
    "* Return the output\n",
    "* Apply [TensorFlow's Dropout](https://www.tensorflow.org/api_docs/python/tf/nn/dropout) to one or more layers in the model using `keep_prob`. "
   ]
  },
  {
   "cell_type": "code",
   "execution_count": 20,
   "metadata": {},
   "outputs": [
    {
     "name": "stdout",
     "output_type": "stream",
     "text": [
      "WARNING:tensorflow:From <ipython-input-20-ab29d2280d70>:75: softmax_cross_entropy_with_logits (from tensorflow.python.ops.nn_ops) is deprecated and will be removed in a future version.\n",
      "Instructions for updating:\n",
      "\n",
      "Future major versions of TensorFlow will allow gradients to flow\n",
      "into the labels input on backprop by default.\n",
      "\n",
      "See tf.nn.softmax_cross_entropy_with_logits_v2.\n",
      "\n",
      "Neural Network Built!\n"
     ]
    }
   ],
   "source": [
    "def conv_net(x, keep_prob):\n",
    "    \"\"\"\n",
    "    Create a convolutional neural network model\n",
    "    : x: Placeholder tensor that holds image data.\n",
    "    : keep_prob: Placeholder tensor that hold dropout keep probability.\n",
    "    : return: Tensor that represents logits\n",
    "    \"\"\"\n",
    "    # TODO: Apply 1, 2, or 3 Convolution and Max Pool layers\n",
    "    #    Play around with different number of outputs, kernel size and stride\n",
    "    # Function Definition from Above:\n",
    "    #    conv2d_maxpool(x_tensor, conv_num_outputs, conv_ksize, conv_strides, pool_ksize, pool_strides)\n",
    "    \n",
    "\n",
    "    # TODO: Apply a Flatten Layer\n",
    "    # Function Definition from Above:\n",
    "    #   flatten(x_tensor)\n",
    "    \n",
    "\n",
    "    # TODO: Apply 1, 2, or 3 Fully Connected Layers\n",
    "    #    Play around with different number of outputs\n",
    "    # Function Definition from Above:\n",
    "    #   fully_conn(x_tensor, num_outputs)\n",
    "    \n",
    "    \n",
    "    # TODO: Apply an Output Layer\n",
    "    #    Set this to the number of classes\n",
    "    # Function Definition from Above:\n",
    "    #   output(x_tensor, num_outputs)\n",
    "    \n",
    "    \n",
    "    # TODO: return output\n",
    "    conv = conv2d_maxpool(x, conv_num_outputs=64,conv_ksize=[5,5],conv_strides=[1,1],pool_ksize=[3,3],\n",
    "                          pool_strides=[2,2])\n",
    "    \n",
    "    conv = conv2d_maxpool(conv, conv_num_outputs=64, conv_ksize=[5,5], conv_strides=[1,1], pool_ksize=[3,3],\n",
    "                          pool_strides=[2,2])\n",
    "    \n",
    "    # Apply a Flatten Layer\n",
    "    flattened_conv = flatten(conv)\n",
    "    \n",
    "    # 2 Fully-Connected Layers.\n",
    "    fc = fully_conn(flattened_conv, 384)\n",
    "    fc = fully_conn(fc, 192)\n",
    "    \n",
    "    # Dropout layer.\n",
    "    fc = tf.nn.dropout(fc, keep_prob)\n",
    "    \n",
    "    # Output Layer.\n",
    "    return output(fc, 10)   \n",
    "\n",
    "\n",
    "\"\"\"\n",
    "DON'T MODIFY ANYTHING IN THIS CELL THAT IS BELOW THIS LINE\n",
    "\"\"\"\n",
    "\n",
    "##############################\n",
    "## Build the Neural Network ##\n",
    "##############################\n",
    "\n",
    "# Remove previous weights, bias, inputs, etc..\n",
    "tf.reset_default_graph()\n",
    "\n",
    "# Inputs\n",
    "x = neural_net_image_input((32, 32, 3))\n",
    "y = neural_net_label_input(10)\n",
    "keep_prob = neural_net_keep_prob_input()\n",
    "\n",
    "# Model\n",
    "logits = conv_net(x, keep_prob)\n",
    "\n",
    "# Name logits Tensor, so that is can be loaded from disk after training\n",
    "logits = tf.identity(logits, name='logits')\n",
    "\n",
    "# Loss and Optimizer\n",
    "cost = tf.reduce_mean(tf.nn.softmax_cross_entropy_with_logits(logits=logits, labels=y))\n",
    "optimizer = tf.train.AdamOptimizer().minimize(cost)\n",
    "\n",
    "# Accuracy\n",
    "correct_pred = tf.equal(tf.argmax(logits, 1), tf.argmax(y, 1))\n",
    "accuracy = tf.reduce_mean(tf.cast(correct_pred, tf.float32), name='accuracy')\n",
    "\n",
    "tests.test_conv_net(conv_net)"
   ]
  },
  {
   "cell_type": "markdown",
   "metadata": {},
   "source": [
    "## Train the Neural Network\n",
    "### Single Optimization\n",
    "Implement the function `train_neural_network` to do a single optimization.  The optimization should use `optimizer` to optimize in `session` with a `feed_dict` of the following:\n",
    "* `x` for image input\n",
    "* `y` for labels\n",
    "* `keep_prob` for keep probability for dropout\n",
    "\n",
    "This function will be called for each batch, so `tf.global_variables_initializer()` has already been called.\n",
    "\n",
    "Note: Nothing needs to be returned. This function is only optimizing the neural network."
   ]
  },
  {
   "cell_type": "code",
   "execution_count": 22,
   "metadata": {},
   "outputs": [
    {
     "name": "stdout",
     "output_type": "stream",
     "text": [
      "Tests Passed\n"
     ]
    }
   ],
   "source": [
    "def train_neural_network(session, optimizer, keep_probability, feature_batch, label_batch):\n",
    "    \"\"\"\n",
    "    Optimize the session on a batch of images and labels\n",
    "    : session: Current TensorFlow session\n",
    "    : optimizer: TensorFlow optimizer function\n",
    "    : keep_probability: keep probability\n",
    "    : feature_batch: Batch of Numpy image data\n",
    "    : label_batch: Batch of Numpy label data\n",
    "    \"\"\"\n",
    "    # TODO: Implement Function\n",
    "    #pass\n",
    "    session.run(optimizer, feed_dict={x:feature_batch, y:label_batch, keep_prob:keep_probability})\n",
    "\n",
    "\n",
    "\"\"\"\n",
    "DON'T MODIFY ANYTHING IN THIS CELL THAT IS BELOW THIS LINE\n",
    "\"\"\"\n",
    "tests.test_train_nn(train_neural_network)"
   ]
  },
  {
   "cell_type": "markdown",
   "metadata": {},
   "source": [
    "### Show Stats\n",
    "Implement the function `print_stats` to print loss and validation accuracy.  Use the global variables `valid_features` and `valid_labels` to calculate validation accuracy.  Use a keep probability of `1.0` to calculate the loss and validation accuracy."
   ]
  },
  {
   "cell_type": "code",
   "execution_count": 23,
   "metadata": {},
   "outputs": [],
   "source": [
    "def print_stats(session, feature_batch, label_batch, cost, accuracy):\n",
    "    \"\"\"\n",
    "    Print information about loss and validation accuracy\n",
    "    : session: Current TensorFlow session\n",
    "    : feature_batch: Batch of Numpy image data\n",
    "    : label_batch: Batch of Numpy label data\n",
    "    : cost: TensorFlow cost function\n",
    "    : accuracy: TensorFlow accuracy function\n",
    "    \"\"\"\n",
    "    # TODO: Implement Function\n",
    "    # pass\n",
    "    loss = session.run(cost, feed_dict={x:feature_batch, \n",
    "                                        y:label_batch,\n",
    "                                        keep_prob:1.0}) \n",
    "    acc = session.run(accuracy, \n",
    "                feed_dict={x:valid_features, \n",
    "                           y:valid_labels, \n",
    "                           keep_prob:1.0})\n",
    "    print('Loss={0} ValidationAccuracy={1}'.format(loss, acc))"
   ]
  },
  {
   "cell_type": "markdown",
   "metadata": {},
   "source": [
    "### Hyperparameters\n",
    "Tune the following parameters:\n",
    "* Set `epochs` to the number of iterations until the network stops learning or start overfitting\n",
    "* Set `batch_size` to the highest number that your machine has memory for.  Most people set them to common sizes of memory:\n",
    " * 64\n",
    " * 128\n",
    " * 256\n",
    " * ...\n",
    "* Set `keep_probability` to the probability of keeping a node using dropout"
   ]
  },
  {
   "cell_type": "code",
   "execution_count": 24,
   "metadata": {},
   "outputs": [],
   "source": [
    "# TODO: Tune Parameters\n",
    "epochs = 25\n",
    "batch_size = 512\n",
    "keep_probability = 0.95"
   ]
  },
  {
   "cell_type": "markdown",
   "metadata": {},
   "source": [
    "### Train on a Single CIFAR-10 Batch\n",
    "Instead of training the neural network on all the CIFAR-10 batches of data, let's use a single batch. This should save time while you iterate on the model to get a better accuracy.  Once the final validation accuracy is 50% or greater, run the model on all the data in the next section."
   ]
  },
  {
   "cell_type": "code",
   "execution_count": 29,
   "metadata": {},
   "outputs": [
    {
     "name": "stdout",
     "output_type": "stream",
     "text": [
      "Checking the Training on a Single Batch...\n",
      "Epoch  1, CIFAR-10 Batch 1:  Loss=2.2416863441467285 ValidationAccuracy=0.17820000648498535\n",
      "Epoch no: 1  took  83.71942496299744  secs\n",
      "Epoch  2, CIFAR-10 Batch 1:  Loss=1.870418906211853 ValidationAccuracy=0.33880001306533813\n",
      "Epoch no: 2  took  89.06586170196533  secs\n",
      "Epoch  3, CIFAR-10 Batch 1:  Loss=1.6691080331802368 ValidationAccuracy=0.41280001401901245\n",
      "Epoch no: 3  took  87.92298889160156  secs\n",
      "Epoch  4, CIFAR-10 Batch 1:  Loss=1.5550001859664917 ValidationAccuracy=0.45080000162124634\n",
      "Epoch no: 4  took  106.11101794242859  secs\n",
      "Epoch  5, CIFAR-10 Batch 1:  Loss=1.4229353666305542 ValidationAccuracy=0.47780001163482666\n",
      "Epoch no: 5  took  228.12957000732422  secs\n",
      "Epoch  6, CIFAR-10 Batch 1:  Loss=1.3605766296386719 ValidationAccuracy=0.48539999127388\n",
      "Epoch no: 6  took  97.93440222740173  secs\n",
      "Epoch  7, CIFAR-10 Batch 1:  Loss=1.2062327861785889 ValidationAccuracy=0.5297999978065491\n",
      "Epoch no: 7  took  96.95523405075073  secs\n",
      "Epoch  8, CIFAR-10 Batch 1:  Loss=1.1539111137390137 ValidationAccuracy=0.5302000045776367\n",
      "Epoch no: 8  took  104.91703796386719  secs\n",
      "Epoch  9, CIFAR-10 Batch 1:  Loss=1.038599967956543 ValidationAccuracy=0.5483999848365784\n",
      "Epoch no: 9  took  97.60638403892517  secs\n",
      "Epoch 10, CIFAR-10 Batch 1:  Loss=0.9444757699966431 ValidationAccuracy=0.5681999921798706\n",
      "Epoch no: 10  took  103.37011313438416  secs\n",
      "Epoch 11, CIFAR-10 Batch 1:  Loss=0.8806406259536743 ValidationAccuracy=0.5583999752998352\n",
      "Epoch no: 11  took  105.65628504753113  secs\n",
      "Epoch 12, CIFAR-10 Batch 1:  Loss=0.8223893642425537 ValidationAccuracy=0.5568000078201294\n",
      "Epoch no: 12  took  104.21894907951355  secs\n",
      "Epoch 13, CIFAR-10 Batch 1:  Loss=0.7589898705482483 ValidationAccuracy=0.5601999759674072\n",
      "Epoch no: 13  took  104.95675015449524  secs\n",
      "Epoch 14, CIFAR-10 Batch 1:  Loss=0.6598711013793945 ValidationAccuracy=0.5861999988555908\n",
      "Epoch no: 14  took  108.1344108581543  secs\n",
      "Epoch 15, CIFAR-10 Batch 1:  Loss=0.600290834903717 ValidationAccuracy=0.5712000131607056\n",
      "Epoch no: 15  took  107.47600197792053  secs\n",
      "Epoch 16, CIFAR-10 Batch 1:  Loss=0.5536633133888245 ValidationAccuracy=0.5885999798774719\n",
      "Epoch no: 16  took  106.65255808830261  secs\n",
      "Epoch 17, CIFAR-10 Batch 1:  Loss=0.5156682133674622 ValidationAccuracy=0.5799999833106995\n",
      "Epoch no: 17  took  114.91465592384338  secs\n",
      "Epoch 18, CIFAR-10 Batch 1:  Loss=0.4542824625968933 ValidationAccuracy=0.5856000185012817\n",
      "Epoch no: 18  took  120.33589196205139  secs\n",
      "Epoch 19, CIFAR-10 Batch 1:  Loss=0.3796323239803314 ValidationAccuracy=0.6047999858856201\n",
      "Epoch no: 19  took  111.34147191047668  secs\n",
      "Epoch 20, CIFAR-10 Batch 1:  Loss=0.3974606692790985 ValidationAccuracy=0.5785999894142151\n",
      "Epoch no: 20  took  110.07799410820007  secs\n",
      "Epoch 21, CIFAR-10 Batch 1:  Loss=0.32360777258872986 ValidationAccuracy=0.5817999839782715\n",
      "Epoch no: 21  took  116.60515570640564  secs\n",
      "Epoch 22, CIFAR-10 Batch 1:  Loss=0.337099552154541 ValidationAccuracy=0.5637999773025513\n",
      "Epoch no: 22  took  114.69510889053345  secs\n",
      "Epoch 23, CIFAR-10 Batch 1:  Loss=0.2735375463962555 ValidationAccuracy=0.5983999967575073\n",
      "Epoch no: 23  took  129.044260263443  secs\n",
      "Epoch 24, CIFAR-10 Batch 1:  Loss=0.283307820558548 ValidationAccuracy=0.5961999893188477\n",
      "Epoch no: 24  took  106.64962887763977  secs\n",
      "Epoch 25, CIFAR-10 Batch 1:  Loss=0.23520603775978088 ValidationAccuracy=0.5899999737739563\n",
      "Epoch no: 25  took  113.21641612052917  secs\n"
     ]
    }
   ],
   "source": [
    "\"\"\"\n",
    "DON'T MODIFY ANYTHING IN THIS CELL\n",
    "\"\"\"\n",
    "print('Checking the Training on a Single Batch...')\n",
    "from time import time\n",
    "with tf.Session() as sess:\n",
    "    # Initializing the variables\n",
    "    sess.run(tf.global_variables_initializer())\n",
    "    \n",
    "    # Training cycle\n",
    "    for epoch in range(epochs):\n",
    "        start = time()\n",
    "        batch_i = 1\n",
    "        for batch_features, batch_labels in helper.load_preprocess_training_batch(batch_i, batch_size):\n",
    "            train_neural_network(sess, optimizer, keep_probability, batch_features, batch_labels)\n",
    "        print('Epoch {:>2}, CIFAR-10 Batch {}:  '.format(epoch + 1, batch_i), end='')\n",
    "        print_stats(sess, batch_features, batch_labels, cost, accuracy)\n",
    "        print ('Epoch no:',epoch+1,' took ', time()-start,' secs')"
   ]
  },
  {
   "cell_type": "markdown",
   "metadata": {},
   "source": [
    "### Fully Train the Model\n",
    "Now that you got a good accuracy with a single CIFAR-10 batch, try it with all five batches."
   ]
  },
  {
   "cell_type": "code",
   "execution_count": 31,
   "metadata": {},
   "outputs": [
    {
     "name": "stdout",
     "output_type": "stream",
     "text": [
      "Training...\n",
      "Epoch  1, CIFAR-10 Batch 1:  Loss=2.2716002464294434 ValidationAccuracy=0.15219999849796295\n",
      "Epoch  1, CIFAR-10 Batch 2:  Loss=1.883304476737976 ValidationAccuracy=0.29600000381469727\n",
      "Epoch  1, CIFAR-10 Batch 3:  Loss=1.5366276502609253 ValidationAccuracy=0.4000000059604645\n",
      "Epoch  1, CIFAR-10 Batch 4:  Loss=1.426753044128418 ValidationAccuracy=0.44999998807907104\n",
      "Epoch  1, CIFAR-10 Batch 5:  Loss=1.4045594930648804 ValidationAccuracy=0.4837999939918518\n",
      "Epoch no: 1  took  2104.8610479831696  secs\n",
      "Epoch  2, CIFAR-10 Batch 1:  Loss=1.459015965461731 ValidationAccuracy=0.4984000027179718\n",
      "Epoch  2, CIFAR-10 Batch 2:  Loss=1.2614043951034546 ValidationAccuracy=0.5167999863624573\n",
      "Epoch  2, CIFAR-10 Batch 3:  Loss=1.1613048315048218 ValidationAccuracy=0.5270000100135803\n",
      "Epoch  2, CIFAR-10 Batch 4:  Loss=1.0614513158798218 ValidationAccuracy=0.5626000165939331\n",
      "Epoch  2, CIFAR-10 Batch 5:  Loss=1.0898158550262451 ValidationAccuracy=0.5726000070571899\n",
      "Epoch no: 2  took  2614.0071351528168  secs\n",
      "Epoch  3, CIFAR-10 Batch 1:  Loss=1.1482758522033691 ValidationAccuracy=0.5860000252723694\n",
      "Epoch  3, CIFAR-10 Batch 2:  Loss=1.0586813688278198 ValidationAccuracy=0.5809999704360962\n",
      "Epoch  3, CIFAR-10 Batch 3:  Loss=0.9802370071411133 ValidationAccuracy=0.5971999764442444\n",
      "Epoch  3, CIFAR-10 Batch 4:  Loss=0.9076665639877319 ValidationAccuracy=0.6000000238418579\n",
      "Epoch  3, CIFAR-10 Batch 5:  Loss=0.8728522062301636 ValidationAccuracy=0.6245999932289124\n",
      "Epoch no: 3  took  3138.9909269809723  secs\n",
      "Epoch  4, CIFAR-10 Batch 1:  Loss=0.9631306529045105 ValidationAccuracy=0.6254000067710876\n",
      "Epoch  4, CIFAR-10 Batch 2:  Loss=0.8592468500137329 ValidationAccuracy=0.6197999715805054\n",
      "Epoch  4, CIFAR-10 Batch 3:  Loss=0.7953943014144897 ValidationAccuracy=0.6349999904632568\n",
      "Epoch  4, CIFAR-10 Batch 4:  Loss=0.7695881724357605 ValidationAccuracy=0.6421999931335449\n",
      "Epoch  4, CIFAR-10 Batch 5:  Loss=0.7351938486099243 ValidationAccuracy=0.6510000228881836\n",
      "Epoch no: 4  took  3697.749408006668  secs\n",
      "Epoch  5, CIFAR-10 Batch 1:  Loss=0.8570194840431213 ValidationAccuracy=0.640999972820282\n",
      "Epoch  5, CIFAR-10 Batch 2:  Loss=0.7718048095703125 ValidationAccuracy=0.646399974822998\n",
      "Epoch  5, CIFAR-10 Batch 3:  Loss=0.7217829823493958 ValidationAccuracy=0.6525999903678894\n",
      "Epoch  5, CIFAR-10 Batch 4:  Loss=0.6722542643547058 ValidationAccuracy=0.6618000268936157\n",
      "Epoch  5, CIFAR-10 Batch 5:  Loss=0.648012101650238 ValidationAccuracy=0.6651999950408936\n",
      "Epoch no: 5  took  4224.13087105751  secs\n",
      "Epoch  6, CIFAR-10 Batch 1:  Loss=0.7419620156288147 ValidationAccuracy=0.6456000208854675\n",
      "Epoch  6, CIFAR-10 Batch 2:  Loss=0.6767630577087402 ValidationAccuracy=0.645799994468689\n",
      "Epoch  6, CIFAR-10 Batch 3:  Loss=0.6648743748664856 ValidationAccuracy=0.6466000080108643\n",
      "Epoch  6, CIFAR-10 Batch 4:  Loss=0.6020609140396118 ValidationAccuracy=0.6696000099182129\n",
      "Epoch  6, CIFAR-10 Batch 5:  Loss=0.534538984298706 ValidationAccuracy=0.6747999787330627\n",
      "Epoch no: 6  took  4767.872842073441  secs\n",
      "Epoch  7, CIFAR-10 Batch 1:  Loss=0.6205282211303711 ValidationAccuracy=0.6761999726295471\n",
      "Epoch  7, CIFAR-10 Batch 2:  Loss=0.5920373201370239 ValidationAccuracy=0.659600019454956\n",
      "Epoch  7, CIFAR-10 Batch 3:  Loss=0.5238010883331299 ValidationAccuracy=0.6826000213623047\n",
      "Epoch  7, CIFAR-10 Batch 4:  Loss=0.5338906049728394 ValidationAccuracy=0.6704000234603882\n",
      "Epoch  7, CIFAR-10 Batch 5:  Loss=0.4570905268192291 ValidationAccuracy=0.676800012588501\n",
      "Epoch no: 7  took  5264.460905075073  secs\n",
      "Epoch  8, CIFAR-10 Batch 1:  Loss=0.5710173845291138 ValidationAccuracy=0.6830000281333923\n",
      "Epoch  8, CIFAR-10 Batch 2:  Loss=0.5074129700660706 ValidationAccuracy=0.6642000079154968\n",
      "Epoch  8, CIFAR-10 Batch 3:  Loss=0.44167986512184143 ValidationAccuracy=0.6848000288009644\n",
      "Epoch  8, CIFAR-10 Batch 4:  Loss=0.4274313449859619 ValidationAccuracy=0.6868000030517578\n",
      "Epoch  8, CIFAR-10 Batch 5:  Loss=0.41439467668533325 ValidationAccuracy=0.6679999828338623\n",
      "Epoch no: 8  took  5758.06022310257  secs\n",
      "Epoch  9, CIFAR-10 Batch 1:  Loss=0.513992428779602 ValidationAccuracy=0.6787999868392944\n",
      "Epoch  9, CIFAR-10 Batch 2:  Loss=0.45373061299324036 ValidationAccuracy=0.6657999753952026\n",
      "Epoch  9, CIFAR-10 Batch 3:  Loss=0.37874555587768555 ValidationAccuracy=0.6912000179290771\n",
      "Epoch  9, CIFAR-10 Batch 4:  Loss=0.38012075424194336 ValidationAccuracy=0.6830000281333923\n",
      "Epoch  9, CIFAR-10 Batch 5:  Loss=0.3405166566371918 ValidationAccuracy=0.6833999752998352\n",
      "Epoch no: 9  took  6255.790954113007  secs\n",
      "Epoch 10, CIFAR-10 Batch 1:  Loss=0.43690866231918335 ValidationAccuracy=0.6855999827384949\n",
      "Epoch 10, CIFAR-10 Batch 2:  Loss=0.40371671319007874 ValidationAccuracy=0.678600013256073\n",
      "Epoch 10, CIFAR-10 Batch 3:  Loss=0.3032015860080719 ValidationAccuracy=0.6998000144958496\n",
      "Epoch 10, CIFAR-10 Batch 4:  Loss=0.3206477165222168 ValidationAccuracy=0.6845999956130981\n",
      "Epoch 10, CIFAR-10 Batch 5:  Loss=0.29980090260505676 ValidationAccuracy=0.6890000104904175\n",
      "Epoch no: 10  took  6723.320178985596  secs\n",
      "Epoch 11, CIFAR-10 Batch 1:  Loss=0.40375545620918274 ValidationAccuracy=0.6625999808311462\n",
      "Epoch 11, CIFAR-10 Batch 2:  Loss=0.38299113512039185 ValidationAccuracy=0.6773999929428101\n",
      "Epoch 11, CIFAR-10 Batch 3:  Loss=0.32010021805763245 ValidationAccuracy=0.6886000037193298\n",
      "Epoch 11, CIFAR-10 Batch 4:  Loss=0.30703380703926086 ValidationAccuracy=0.6801999807357788\n",
      "Epoch 11, CIFAR-10 Batch 5:  Loss=0.2901335656642914 ValidationAccuracy=0.6801999807357788\n",
      "Epoch no: 11  took  7187.504182100296  secs\n",
      "Epoch 12, CIFAR-10 Batch 1:  Loss=0.38260525465011597 ValidationAccuracy=0.6615999937057495\n",
      "Epoch 12, CIFAR-10 Batch 2:  Loss=0.38129162788391113 ValidationAccuracy=0.6534000039100647\n",
      "Epoch 12, CIFAR-10 Batch 3:  Loss=0.2598137855529785 ValidationAccuracy=0.6937999725341797\n",
      "Epoch 12, CIFAR-10 Batch 4:  Loss=0.234418123960495 ValidationAccuracy=0.6899999976158142\n",
      "Epoch 12, CIFAR-10 Batch 5:  Loss=0.2137380689382553 ValidationAccuracy=0.6854000091552734\n",
      "Epoch no: 12  took  7647.018121004105  secs\n",
      "Epoch 13, CIFAR-10 Batch 1:  Loss=0.3108512759208679 ValidationAccuracy=0.6791999936103821\n",
      "Epoch 13, CIFAR-10 Batch 2:  Loss=0.37242069840431213 ValidationAccuracy=0.6589999794960022\n",
      "Epoch 13, CIFAR-10 Batch 3:  Loss=0.2599108815193176 ValidationAccuracy=0.6848000288009644\n",
      "Epoch 13, CIFAR-10 Batch 4:  Loss=0.22227145731449127 ValidationAccuracy=0.6901999711990356\n",
      "Epoch 13, CIFAR-10 Batch 5:  Loss=0.17203262448310852 ValidationAccuracy=0.6973999738693237\n",
      "Epoch no: 13  took  8112.649272918701  secs\n",
      "Epoch 14, CIFAR-10 Batch 1:  Loss=0.2660726308822632 ValidationAccuracy=0.6723999977111816\n",
      "Epoch 14, CIFAR-10 Batch 2:  Loss=0.2839168310165405 ValidationAccuracy=0.6818000078201294\n",
      "Epoch 14, CIFAR-10 Batch 3:  Loss=0.1941194087266922 ValidationAccuracy=0.6967999935150146\n",
      "Epoch 14, CIFAR-10 Batch 4:  Loss=0.23245468735694885 ValidationAccuracy=0.6741999983787537\n",
      "Epoch 14, CIFAR-10 Batch 5:  Loss=0.15735571086406708 ValidationAccuracy=0.6736000180244446\n",
      "Epoch no: 14  took  8563.31748008728  secs\n",
      "Epoch 15, CIFAR-10 Batch 1:  Loss=0.16173399984836578 ValidationAccuracy=0.6977999806404114\n",
      "Epoch 15, CIFAR-10 Batch 2:  Loss=0.22071565687656403 ValidationAccuracy=0.6955999732017517\n",
      "Epoch 15, CIFAR-10 Batch 3:  Loss=0.16823546588420868 ValidationAccuracy=0.6868000030517578\n",
      "Epoch 15, CIFAR-10 Batch 4:  Loss=0.17571111023426056 ValidationAccuracy=0.6909999847412109\n",
      "Epoch 15, CIFAR-10 Batch 5:  Loss=0.14463575184345245 ValidationAccuracy=0.6621999740600586\n",
      "Epoch no: 15  took  9013.535822868347  secs\n",
      "Epoch 16, CIFAR-10 Batch 1:  Loss=0.15376655757427216 ValidationAccuracy=0.6913999915122986\n",
      "Epoch 16, CIFAR-10 Batch 2:  Loss=0.19423362612724304 ValidationAccuracy=0.6841999888420105\n",
      "Epoch 16, CIFAR-10 Batch 3:  Loss=0.13058246672153473 ValidationAccuracy=0.6998000144958496\n",
      "Epoch 16, CIFAR-10 Batch 4:  Loss=0.1504095494747162 ValidationAccuracy=0.6876000165939331\n",
      "Epoch 16, CIFAR-10 Batch 5:  Loss=0.164816215634346 ValidationAccuracy=0.6692000031471252\n",
      "Epoch no: 16  took  9453.966135263443  secs\n",
      "Epoch 17, CIFAR-10 Batch 1:  Loss=0.17231085896492004 ValidationAccuracy=0.6747999787330627\n",
      "Epoch 17, CIFAR-10 Batch 2:  Loss=0.17370113730430603 ValidationAccuracy=0.6809999942779541\n"
     ]
    },
    {
     "name": "stdout",
     "output_type": "stream",
     "text": [
      "Epoch 17, CIFAR-10 Batch 3:  Loss=0.11913389712572098 ValidationAccuracy=0.6966000199317932\n",
      "Epoch 17, CIFAR-10 Batch 4:  Loss=0.16647233068943024 ValidationAccuracy=0.675599992275238\n",
      "Epoch 17, CIFAR-10 Batch 5:  Loss=0.1231064423918724 ValidationAccuracy=0.6919999718666077\n",
      "Epoch no: 17  took  9884.58865404129  secs\n",
      "Epoch 18, CIFAR-10 Batch 1:  Loss=0.20303721725940704 ValidationAccuracy=0.6517999768257141\n",
      "Epoch 18, CIFAR-10 Batch 2:  Loss=0.21010209619998932 ValidationAccuracy=0.6669999957084656\n",
      "Epoch 18, CIFAR-10 Batch 3:  Loss=0.1013837531208992 ValidationAccuracy=0.7020000219345093\n",
      "Epoch 18, CIFAR-10 Batch 4:  Loss=0.12065041065216064 ValidationAccuracy=0.6758000254631042\n",
      "Epoch 18, CIFAR-10 Batch 5:  Loss=0.0889921635389328 ValidationAccuracy=0.7020000219345093\n",
      "Epoch no: 18  took  10309.620318174362  secs\n",
      "Epoch 19, CIFAR-10 Batch 1:  Loss=0.1271258294582367 ValidationAccuracy=0.6651999950408936\n",
      "Epoch 19, CIFAR-10 Batch 2:  Loss=0.13231214880943298 ValidationAccuracy=0.6941999793052673\n",
      "Epoch 19, CIFAR-10 Batch 3:  Loss=0.0920976847410202 ValidationAccuracy=0.7035999894142151\n",
      "Epoch 19, CIFAR-10 Batch 4:  Loss=0.10615677386522293 ValidationAccuracy=0.6773999929428101\n",
      "Epoch 19, CIFAR-10 Batch 5:  Loss=0.08708567917346954 ValidationAccuracy=0.6873999834060669\n",
      "Epoch no: 19  took  10733.782099962234  secs\n",
      "Epoch 20, CIFAR-10 Batch 1:  Loss=0.1487169712781906 ValidationAccuracy=0.6543999910354614\n",
      "Epoch 20, CIFAR-10 Batch 2:  Loss=0.21234314143657684 ValidationAccuracy=0.6633999943733215\n",
      "Epoch 20, CIFAR-10 Batch 3:  Loss=0.08927085250616074 ValidationAccuracy=0.6966000199317932\n",
      "Epoch 20, CIFAR-10 Batch 4:  Loss=0.08571159839630127 ValidationAccuracy=0.6776000261306763\n",
      "Epoch 20, CIFAR-10 Batch 5:  Loss=0.07030365616083145 ValidationAccuracy=0.6926000118255615\n",
      "Epoch no: 20  took  11160.10452413559  secs\n",
      "Epoch 21, CIFAR-10 Batch 1:  Loss=0.12699490785598755 ValidationAccuracy=0.682200014591217\n",
      "Epoch 21, CIFAR-10 Batch 2:  Loss=0.13133518397808075 ValidationAccuracy=0.6791999936103821\n",
      "Epoch 21, CIFAR-10 Batch 3:  Loss=0.08760514110326767 ValidationAccuracy=0.6935999989509583\n",
      "Epoch 21, CIFAR-10 Batch 4:  Loss=0.07576693594455719 ValidationAccuracy=0.670799970626831\n",
      "Epoch 21, CIFAR-10 Batch 5:  Loss=0.08796565234661102 ValidationAccuracy=0.6797999739646912\n",
      "Epoch no: 21  took  15561.099612951279  secs\n",
      "Epoch 22, CIFAR-10 Batch 1:  Loss=0.08816713839769363 ValidationAccuracy=0.6601999998092651\n",
      "Epoch 22, CIFAR-10 Batch 2:  Loss=0.11334099620580673 ValidationAccuracy=0.671999990940094\n",
      "Epoch 22, CIFAR-10 Batch 3:  Loss=0.05292743444442749 ValidationAccuracy=0.7016000151634216\n",
      "Epoch 22, CIFAR-10 Batch 4:  Loss=0.06042276695370674 ValidationAccuracy=0.670799970626831\n",
      "Epoch 22, CIFAR-10 Batch 5:  Loss=0.10184072703123093 ValidationAccuracy=0.6765999794006348\n",
      "Epoch no: 22  took  16397.415585041046  secs\n",
      "Epoch 23, CIFAR-10 Batch 1:  Loss=0.08934162557125092 ValidationAccuracy=0.6687999963760376\n",
      "Epoch 23, CIFAR-10 Batch 2:  Loss=0.079014852643013 ValidationAccuracy=0.6886000037193298\n",
      "Epoch 23, CIFAR-10 Batch 3:  Loss=0.047242727130651474 ValidationAccuracy=0.6922000050544739\n",
      "Epoch 23, CIFAR-10 Batch 4:  Loss=0.082769975066185 ValidationAccuracy=0.6466000080108643\n",
      "Epoch 23, CIFAR-10 Batch 5:  Loss=0.050380460917949677 ValidationAccuracy=0.6866000294685364\n",
      "Epoch no: 23  took  17607.804769039154  secs\n",
      "Epoch 24, CIFAR-10 Batch 1:  Loss=0.05329860374331474 ValidationAccuracy=0.6970000267028809\n",
      "Epoch 24, CIFAR-10 Batch 2:  Loss=0.07217971235513687 ValidationAccuracy=0.6930000185966492\n",
      "Epoch 24, CIFAR-10 Batch 3:  Loss=0.05960583686828613 ValidationAccuracy=0.696399986743927\n",
      "Epoch 24, CIFAR-10 Batch 4:  Loss=0.05262069031596184 ValidationAccuracy=0.6840000152587891\n",
      "Epoch 24, CIFAR-10 Batch 5:  Loss=0.04952768236398697 ValidationAccuracy=0.6800000071525574\n",
      "Epoch no: 24  took  18812.89322090149  secs\n",
      "Epoch 25, CIFAR-10 Batch 1:  Loss=0.03759968653321266 ValidationAccuracy=0.6985999941825867\n",
      "Epoch 25, CIFAR-10 Batch 2:  Loss=0.06361024081707001 ValidationAccuracy=0.6772000193595886\n",
      "Epoch 25, CIFAR-10 Batch 3:  Loss=0.05360009893774986 ValidationAccuracy=0.6862000226974487\n",
      "Epoch 25, CIFAR-10 Batch 4:  Loss=0.06325109302997589 ValidationAccuracy=0.675599992275238\n",
      "Epoch 25, CIFAR-10 Batch 5:  Loss=0.04746495559811592 ValidationAccuracy=0.6887999773025513\n",
      "Epoch no: 25  took  19998.807545900345  secs\n"
     ]
    }
   ],
   "source": [
    "\"\"\"\n",
    "DON'T MODIFY ANYTHING IN THIS CELL\n",
    "\"\"\"\n",
    "save_model_path = './image_classification'\n",
    "\n",
    "print('Training...')\n",
    "from time import time\n",
    "with tf.Session() as sess:\n",
    "    # Initializing the variables\n",
    "    sess.run(tf.global_variables_initializer())\n",
    "    \n",
    "    # Training cycle\n",
    "    for epoch in range(epochs):\n",
    "        # Loop over all batches\n",
    "        n_batches = 5\n",
    "        for batch_i in range(1, n_batches + 1):\n",
    "            for batch_features, batch_labels in helper.load_preprocess_training_batch(batch_i, batch_size):\n",
    "                train_neural_network(sess, optimizer, keep_probability, batch_features, batch_labels)\n",
    "            print('Epoch {:>2}, CIFAR-10 Batch {}:  '.format(epoch + 1, batch_i), end='')\n",
    "            print_stats(sess, batch_features, batch_labels, cost, accuracy)\n",
    "        print ('Epoch no:',epoch+1,' took ', time()-start,' secs')\n",
    "            \n",
    "    # Save Model\n",
    "    saver = tf.train.Saver()\n",
    "    save_path = saver.save(sess, save_model_path)"
   ]
  },
  {
   "cell_type": "markdown",
   "metadata": {},
   "source": [
    "# Checkpoint\n",
    "The model has been saved to disk.\n",
    "## Test Model\n",
    "Test your model against the test dataset.  This will be your final accuracy. You should have an accuracy greater than 50%. If you don't, keep tweaking the model architecture and parameters."
   ]
  },
  {
   "cell_type": "code",
   "execution_count": 32,
   "metadata": {},
   "outputs": [
    {
     "name": "stdout",
     "output_type": "stream",
     "text": [
      "INFO:tensorflow:Restoring parameters from ./image_classification\n",
      "Testing Accuracy: 0.6815085023641586\n",
      "\n"
     ]
    },
    {
     "data": {
      "image/png": "[encoded data removed]",
      "text/plain": [
       "<Figure size 432x288 with 8 Axes>"
      ]
     },
     "metadata": {
      "image/png": {
       "height": 319,
       "width": 353
      }
     },
     "output_type": "display_data"
    }
   ],
   "source": [
    "\"\"\"\n",
    "DON'T MODIFY ANYTHING IN THIS CELL\n",
    "\"\"\"\n",
    "%matplotlib inline\n",
    "%config InlineBackend.figure_format = 'retina'\n",
    "\n",
    "import tensorflow as tf\n",
    "import pickle\n",
    "import helper\n",
    "import random\n",
    "\n",
    "# Set batch size if not already set\n",
    "try:\n",
    "    if batch_size:\n",
    "        pass\n",
    "except NameError:\n",
    "    batch_size = 64\n",
    "\n",
    "save_model_path = './image_classification'\n",
    "n_samples = 4\n",
    "top_n_predictions = 3\n",
    "\n",
    "def test_model():\n",
    "    \"\"\"\n",
    "    Test the saved model against the test dataset\n",
    "    \"\"\"\n",
    "\n",
    "    test_features, test_labels = pickle.load(open('preprocess_training.p', mode='rb'))\n",
    "    loaded_graph = tf.Graph()\n",
    "\n",
    "    with tf.Session(graph=loaded_graph) as sess:\n",
    "        # Load model\n",
    "        loader = tf.train.import_meta_graph(save_model_path + '.meta')\n",
    "        loader.restore(sess, save_model_path)\n",
    "\n",
    "        # Get Tensors from loaded model\n",
    "        loaded_x = loaded_graph.get_tensor_by_name('x:0')\n",
    "        loaded_y = loaded_graph.get_tensor_by_name('y:0')\n",
    "        loaded_keep_prob = loaded_graph.get_tensor_by_name('keep_prob:0')\n",
    "        loaded_logits = loaded_graph.get_tensor_by_name('logits:0')\n",
    "        loaded_acc = loaded_graph.get_tensor_by_name('accuracy:0')\n",
    "        \n",
    "        # Get accuracy in batches for memory limitations\n",
    "        test_batch_acc_total = 0\n",
    "        test_batch_count = 0\n",
    "        \n",
    "        for train_feature_batch, train_label_batch in helper.batch_features_labels(test_features, test_labels, batch_size):\n",
    "            test_batch_acc_total += sess.run(\n",
    "                loaded_acc,\n",
    "                feed_dict={loaded_x: train_feature_batch, loaded_y: train_label_batch, loaded_keep_prob: 1.0})\n",
    "            test_batch_count += 1\n",
    "\n",
    "        print('Testing Accuracy: {}\\n'.format(test_batch_acc_total/test_batch_count))\n",
    "\n",
    "        # Print Random Samples\n",
    "        random_test_features, random_test_labels = tuple(zip(*random.sample(list(zip(test_features, test_labels)), n_samples)))\n",
    "        random_test_predictions = sess.run(\n",
    "            tf.nn.top_k(tf.nn.softmax(loaded_logits), top_n_predictions),\n",
    "            feed_dict={loaded_x: random_test_features, loaded_y: random_test_labels, loaded_keep_prob: 1.0})\n",
    "        helper.display_image_predictions(random_test_features, random_test_labels, random_test_predictions)\n",
    "\n",
    "\n",
    "test_model()"
   ]
  },
  {
   "cell_type": "markdown",
   "metadata": {},
   "source": [
    "## Why 50-80% Accuracy?\n",
    "You might be wondering why you can't get an accuracy any higher. First things first, 50% isn't bad for a simple CNN.  Pure guessing would get you 10% accuracy. That's because there are many more techniques that can be applied to your model and we recemmond that once you are done with this project, you explore!\n",
    "\n",
    "## Submitting This Project\n",
    "When submitting this project, make sure to run all the cells before saving the notebook.  Save the notebook file as \"image_classification.ipynb\" and save it as a HTML file under \"File\" -> \"Download as\".  Include the \"helper.py\" and \"problem_unittests.py\" files in your submission."
   ]
  }
 ],
 "metadata": {
  "kernelspec": {
   "display_name": "Python 3",
   "language": "python",
   "name": "python3"
  },
  "language_info": {
   "codemirror_mode": {
    "name": "ipython",
    "version": 3
   },
   "file_extension": ".py",
   "mimetype": "text/x-python",
   "name": "python",
   "nbconvert_exporter": "python",
   "pygments_lexer": "ipython3",
   "version": "3.6.5"
  }
 },
 "nbformat": 4,
 "nbformat_minor": 1
}
