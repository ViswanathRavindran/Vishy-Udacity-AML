{
 "cells": [
  {
   "cell_type": "code",
   "execution_count": 1,
   "metadata": {},
   "outputs": [
    {
     "name": "stderr",
     "output_type": "stream",
     "text": [
      "/home/viswanath/anaconda3/envs/ntensorflowenv/lib/python3.5/site-packages/h5py/__init__.py:36: FutureWarning: Conversion of the second argument of issubdtype from `float` to `np.floating` is deprecated. In future, it will be treated as `np.float64 == np.dtype(float).type`.\n",
      "  from ._conv import register_converters as _register_converters\n",
      "Using TensorFlow backend.\n"
     ]
    }
   ],
   "source": [
    "import numpy as np\n",
    "import pandas as pd\n",
    "from glob import glob\n",
    "from PIL import Image\n",
    "from sklearn.preprocessing import StandardScaler, OneHotEncoder, LabelEncoder\n",
    "from sklearn.model_selection import train_test_split\n",
    "from sklearn.linear_model import LogisticRegression\n",
    "from sklearn.model_selection import train_test_split\n",
    "import matplotlib.pyplot as plt\n",
    "\n",
    "import keras\n",
    "from keras.models import Sequential\n",
    "from keras.layers import Dense, Dropout, Flatten\n",
    "from keras.layers import Conv2D, MaxPooling2D\n",
    "from keras import backend as K\n",
    "from keras.preprocessing.image import ImageDataGenerator\n",
    "from keras.applications import VGG16\n",
    "from keras.callbacks import ModelCheckpoint\n",
    "\n",
    "from tqdm import tqdm"
   ]
  },
  {
   "cell_type": "code",
   "execution_count": 2,
   "metadata": {},
   "outputs": [
    {
     "data": {
      "text/html": [
       "<div>\n",
       "<style scoped>\n",
       "    .dataframe tbody tr th:only-of-type {\n",
       "        vertical-align: middle;\n",
       "    }\n",
       "\n",
       "    .dataframe tbody tr th {\n",
       "        vertical-align: top;\n",
       "    }\n",
       "\n",
       "    .dataframe thead th {\n",
       "        text-align: right;\n",
       "    }\n",
       "</style>\n",
       "<table border=\"1\" class=\"dataframe\">\n",
       "  <thead>\n",
       "    <tr style=\"text-align: right;\">\n",
       "      <th></th>\n",
       "      <th>Image</th>\n",
       "      <th>Id</th>\n",
       "    </tr>\n",
       "  </thead>\n",
       "  <tbody>\n",
       "    <tr>\n",
       "      <th>0</th>\n",
       "      <td>/home/viswanath/Desktop/Myfiles/AML/Capstone/D...</td>\n",
       "      <td>w_e15442c</td>\n",
       "    </tr>\n",
       "    <tr>\n",
       "      <th>1</th>\n",
       "      <td>/home/viswanath/Desktop/Myfiles/AML/Capstone/D...</td>\n",
       "      <td>w_1287fbc</td>\n",
       "    </tr>\n",
       "    <tr>\n",
       "      <th>2</th>\n",
       "      <td>/home/viswanath/Desktop/Myfiles/AML/Capstone/D...</td>\n",
       "      <td>w_da2efe0</td>\n",
       "    </tr>\n",
       "    <tr>\n",
       "      <th>3</th>\n",
       "      <td>/home/viswanath/Desktop/Myfiles/AML/Capstone/D...</td>\n",
       "      <td>w_19e5482</td>\n",
       "    </tr>\n",
       "    <tr>\n",
       "      <th>4</th>\n",
       "      <td>/home/viswanath/Desktop/Myfiles/AML/Capstone/D...</td>\n",
       "      <td>w_f22f3e3</td>\n",
       "    </tr>\n",
       "  </tbody>\n",
       "</table>\n",
       "</div>"
      ],
      "text/plain": [
       "                                               Image         Id\n",
       "0  /home/viswanath/Desktop/Myfiles/AML/Capstone/D...  w_e15442c\n",
       "1  /home/viswanath/Desktop/Myfiles/AML/Capstone/D...  w_1287fbc\n",
       "2  /home/viswanath/Desktop/Myfiles/AML/Capstone/D...  w_da2efe0\n",
       "3  /home/viswanath/Desktop/Myfiles/AML/Capstone/D...  w_19e5482\n",
       "4  /home/viswanath/Desktop/Myfiles/AML/Capstone/D...  w_f22f3e3"
      ]
     },
     "execution_count": 2,
     "metadata": {},
     "output_type": "execute_result"
    }
   ],
   "source": [
    "path = '/home/viswanath/Desktop/Myfiles/AML/Capstone/Data/'\n",
    "train_images = glob(path+\"train/*jpg\")\n",
    "test_images = glob(path+\"test/*jpg\")\n",
    "df = pd.read_csv(path+'/train_label.csv')\n",
    "df[\"Image\"] = df[\"Image\"].map( lambda x : \"/home/viswanath/Desktop/Myfiles/AML/Capstone/Data/train/\"+x)\n",
    "df.head()"
   ]
  },
  {
   "cell_type": "code",
   "execution_count": 3,
   "metadata": {},
   "outputs": [],
   "source": [
    "ImageToLabelDict = dict( zip( df[\"Image\"], df[\"Id\"]))"
   ]
  },
  {
   "cell_type": "code",
   "execution_count": 4,
   "metadata": {},
   "outputs": [],
   "source": [
    "SIZE = 224\n",
    "#image are imported and resized\n",
    "def ImportImage(filename):\n",
    "    img = Image.open(filename).resize( (SIZE,SIZE))\n",
    "    img = np.array(img)\n",
    "    if img.ndim == 2: #imported BW picture and converting to \"dumb RGB\"\n",
    "        img = np.tile(img, (3,1,1)).transpose((1,2,0))\n",
    "    return img\n",
    "x_train = np.array([ImportImage( img) for img in train_images],dtype=np.uint8)"
   ]
  },
  {
   "cell_type": "code",
   "execution_count": 5,
   "metadata": {},
   "outputs": [],
   "source": [
    "class LabelOneHotEncoder():\n",
    "    def __init__(self):\n",
    "        self.ohe = OneHotEncoder()\n",
    "        self.le = LabelEncoder()\n",
    "    def fit_transform(self, x):\n",
    "        features = self.le.fit_transform( x)\n",
    "        return self.ohe.fit_transform( features.reshape(-1,1))\n",
    "    def transform( self, x):\n",
    "        return self.ohe.transform( self.la.transform( x.reshape(-1,1)))\n",
    "    def inverse_tranform( self, x):\n",
    "        return self.le.inverse_transform( self.ohe.inverse_tranform( x))\n",
    "    def inverse_labels( self, x):\n",
    "        return self.le.inverse_transform( x)\n",
    "\n",
    "y = list(map(ImageToLabelDict.get, train_images))\n",
    "lohe = LabelOneHotEncoder()\n",
    "y_cat = lohe.fit_transform(y)"
   ]
  },
  {
   "cell_type": "code",
   "execution_count": 6,
   "metadata": {},
   "outputs": [],
   "source": [
    "x_train = x_train.reshape( (-1,SIZE,SIZE,3))\n",
    "input_shape = x_train[0].shape\n",
    "#x_train = x_train.astype(\"float32\")\n",
    "y_train = y_cat"
   ]
  },
  {
   "cell_type": "code",
   "execution_count": 7,
   "metadata": {},
   "outputs": [],
   "source": [
    "#constructing class weights\n",
    "WeightFunction = lambda x : 1./x**0.75\n",
    "ClassLabel2Index = lambda x : lohe.le.inverse_tranform( [[x]])\n",
    "CountDict = dict( df[\"Id\"].value_counts())\n",
    "class_weight_dic = {lohe.le.transform( [image_name])[0] : WeightFunction(count) for image_name, count in CountDict.items()}\n",
    "del CountDict"
   ]
  },
  {
   "cell_type": "code",
   "execution_count": 8,
   "metadata": {},
   "outputs": [],
   "source": [
    "image_gen = ImageDataGenerator(featurewise_center=True, featurewise_std_normalization=True,\n",
    "                               rescale=1./255, rotation_range=15,  width_shift_range=.15,\n",
    "                               height_shift_range=.15, horizontal_flip=True,)\n",
    "#training the image preprocessing\n",
    "image_gen.fit(x_train, augment=True)"
   ]
  },
  {
   "cell_type": "markdown",
   "metadata": {},
   "source": [
    "# Training and validation with random_state = 42"
   ]
  },
  {
   "cell_type": "code",
   "execution_count": 9,
   "metadata": {},
   "outputs": [],
   "source": [
    "# Set the random seed\n",
    "random_seed = 42\n",
    "\n",
    "# Split the train and the validation set for the fitting\n",
    "x_train, x_val, y_train, y_val = train_test_split(x_train, y_train, test_size = 0.1, random_state=random_seed)"
   ]
  },
  {
   "cell_type": "code",
   "execution_count": 10,
   "metadata": {},
   "outputs": [
    {
     "name": "stdout",
     "output_type": "stream",
     "text": [
      "x_train shape: (8865, 224, 224, 3)\n",
      "8865 train samples\n"
     ]
    }
   ],
   "source": [
    "batch_size = 32\n",
    "num_classes = len(y_cat.toarray()[0])\n",
    "epochs = 4 #x_train.shape[0]//batch_size + 1\n",
    "\n",
    "print('x_train shape:', x_train.shape)\n",
    "print(x_train.shape[0], 'train samples')\n",
    "\n",
    "model = Sequential()\n",
    "\n",
    "conv_base = VGG16(weights=\"imagenet\", include_top=False, input_shape=input_shape)\n",
    "for layer in conv_base.layers:\n",
    "    layer.trainable = False\n",
    "#maybe unfreeze last layer\n",
    "conv_base.layers[-2].trainable = True\n",
    "\n",
    "model.add( conv_base)\n",
    "model.add(Flatten())\n",
    "model.add(Dropout(0.50))\n",
    "model.add(Dense(128, activation='relu')) #64\n",
    "model.add(Dropout(0.50))\n",
    "model.add(Dense(64, activation='relu')) #48\n",
    "model.add(Dropout(0.50))\n",
    "model.add(Dense(num_classes, activation='softmax'))"
   ]
  },
  {
   "cell_type": "code",
   "execution_count": 11,
   "metadata": {},
   "outputs": [
    {
     "name": "stdout",
     "output_type": "stream",
     "text": [
      "_________________________________________________________________\n",
      "Layer (type)                 Output Shape              Param #   \n",
      "=================================================================\n",
      "vgg16 (Model)                (None, 7, 7, 512)         14714688  \n",
      "_________________________________________________________________\n",
      "flatten_1 (Flatten)          (None, 25088)             0         \n",
      "_________________________________________________________________\n",
      "dropout_1 (Dropout)          (None, 25088)             0         \n",
      "_________________________________________________________________\n",
      "dense_1 (Dense)              (None, 128)               3211392   \n",
      "_________________________________________________________________\n",
      "dropout_2 (Dropout)          (None, 128)               0         \n",
      "_________________________________________________________________\n",
      "dense_2 (Dense)              (None, 64)                8256      \n",
      "_________________________________________________________________\n",
      "dropout_3 (Dropout)          (None, 64)                0         \n",
      "_________________________________________________________________\n",
      "dense_3 (Dense)              (None, 4251)              276315    \n",
      "=================================================================\n",
      "Total params: 18,210,651\n",
      "Trainable params: 5,855,771\n",
      "Non-trainable params: 12,354,880\n",
      "_________________________________________________________________\n"
     ]
    }
   ],
   "source": [
    "sgd = keras.optimizers.SGD(lr=1e-3, decay=1e-6, momentum=0.9, nesterov=True)\n",
    "model.compile(loss=keras.losses.categorical_crossentropy,\n",
    "              optimizer=sgd, metrics=['accuracy'])\n",
    "model.summary()"
   ]
  },
  {
   "cell_type": "markdown",
   "metadata": {},
   "source": [
    "# Training and validation with random_state = 7"
   ]
  },
  {
   "cell_type": "code",
   "execution_count": 15,
   "metadata": {},
   "outputs": [],
   "source": [
    "# Set the random seed\n",
    "random_seed = 7\n",
    "\n",
    "# Split the train and the validation set for the fitting\n",
    "x_train, x_val, y_train, y_val = train_test_split(x_train, y_train, test_size = 0.1, random_state=random_seed)"
   ]
  },
  {
   "cell_type": "code",
   "execution_count": 16,
   "metadata": {},
   "outputs": [
    {
     "name": "stdout",
     "output_type": "stream",
     "text": [
      "x_train shape: (7978, 224, 224, 3)\n",
      "7978 train samples\n",
      "Epoch 1/4\n",
      "249/249 [==============================] - 55s 221ms/step - loss: 4.1512 - acc: 0.0820 - val_loss: 14.5154 - val_acc: 0.0744\n",
      "\n",
      "Epoch 00001: val_acc improved from -inf to 0.07441, saving model to /home/viswanath/Desktop/Myfiles/AML/Capstone/Data/weights.best.hdf5\n",
      "Epoch 2/4\n",
      "249/249 [==============================] - 54s 217ms/step - loss: 4.1499 - acc: 0.0825 - val_loss: 14.5661 - val_acc: 0.0744\n",
      "\n",
      "Epoch 00002: val_acc did not improve\n",
      "Epoch 3/4\n",
      "249/249 [==============================] - 54s 216ms/step - loss: 4.1519 - acc: 0.0825 - val_loss: 14.5493 - val_acc: 0.0744\n",
      "\n",
      "Epoch 00003: val_acc did not improve\n",
      "Epoch 4/4\n",
      "249/249 [==============================] - 54s 216ms/step - loss: 4.1558 - acc: 0.0822 - val_loss: 14.5735 - val_acc: 0.0744\n",
      "\n",
      "Epoch 00004: val_acc did not improve\n"
     ]
    }
   ],
   "source": [
    "batch_size = 32\n",
    "num_classes = len(y_cat.toarray()[0])\n",
    "epochs = 4 #x_train.shape[0]//batch_size + 1\n",
    "\n",
    "print('x_train shape:', x_train.shape)\n",
    "print(x_train.shape[0], 'train samples')\n",
    "\n",
    "filepath=path+\"seed7weights.best.hdf5\"\n",
    "checkpoint = ModelCheckpoint(filepath, monitor='val_acc', verbose=1, save_best_only=True, mode='max')\n",
    "callbacks_list = [checkpoint]\n",
    "history = model.fit_generator(image_gen.flow(x_train, y_train.toarray(), batch_size=batch_size),\n",
    "                              steps_per_epoch=x_train.shape[0] // batch_size, epochs=epochs, verbose=1,\n",
    "                              callbacks=callbacks_list, validation_data=(x_val, y_val), \n",
    "                              class_weight=class_weight_dic)"
   ]
  },
  {
   "cell_type": "markdown",
   "metadata": {},
   "source": [
    "# Training and validation with random_state = 356"
   ]
  },
  {
   "cell_type": "code",
   "execution_count": 17,
   "metadata": {},
   "outputs": [],
   "source": [
    "# Set the random seed\n",
    "random_seed = 356\n",
    "\n",
    "# Split the train and the validation set for the fitting\n",
    "x_train, x_val, y_train, y_val = train_test_split(x_train, y_train, test_size = 0.1, random_state=random_seed)"
   ]
  },
  {
   "cell_type": "code",
   "execution_count": 18,
   "metadata": {},
   "outputs": [
    {
     "name": "stdout",
     "output_type": "stream",
     "text": [
      "x_train shape: (7180, 224, 224, 3)\n",
      "7180 train samples\n",
      "Epoch 1/4\n",
      "224/224 [==============================] - 49s 219ms/step - loss: 4.1517 - acc: 0.0828 - val_loss: 14.4733 - val_acc: 0.0789\n",
      "\n",
      "Epoch 00001: val_acc improved from -inf to 0.07895, saving model to /home/viswanath/Desktop/Myfiles/AML/Capstone/Data/weights.best.hdf5\n",
      "Epoch 2/4\n",
      "224/224 [==============================] - 48s 216ms/step - loss: 4.1533 - acc: 0.0822 - val_loss: 14.4935 - val_acc: 0.0789\n",
      "\n",
      "Epoch 00002: val_acc did not improve\n",
      "Epoch 3/4\n",
      "224/224 [==============================] - 49s 217ms/step - loss: 4.1514 - acc: 0.0834 - val_loss: 14.4651 - val_acc: 0.0789\n",
      "\n",
      "Epoch 00003: val_acc did not improve\n",
      "Epoch 4/4\n",
      "224/224 [==============================] - 49s 217ms/step - loss: 4.1531 - acc: 0.0825 - val_loss: 14.4661 - val_acc: 0.0789\n",
      "\n",
      "Epoch 00004: val_acc did not improve\n"
     ]
    }
   ],
   "source": [
    "batch_size = 32\n",
    "num_classes = len(y_cat.toarray()[0])\n",
    "epochs = 4 #x_train.shape[0]//batch_size + 1\n",
    "\n",
    "print('x_train shape:', x_train.shape)\n",
    "print(x_train.shape[0], 'train samples')\n",
    "\n",
    "filepath=path+\"seed356weights.best.hdf5\"\n",
    "checkpoint = ModelCheckpoint(filepath, monitor='val_acc', verbose=1, save_best_only=True, mode='max')\n",
    "callbacks_list = [checkpoint]\n",
    "history = model.fit_generator(image_gen.flow(x_train, y_train.toarray(), batch_size=batch_size),\n",
    "                              steps_per_epoch=x_train.shape[0] // batch_size, epochs=epochs, verbose=1,\n",
    "                              callbacks=callbacks_list, validation_data=(x_val, y_val), \n",
    "                              class_weight=class_weight_dic)"
   ]
  },
  {
   "cell_type": "code",
   "execution_count": 13,
   "metadata": {},
   "outputs": [],
   "source": [
    "model.load_weights(path+\"weights.best.hdf5\")"
   ]
  },
  {
   "cell_type": "code",
   "execution_count": 14,
   "metadata": {},
   "outputs": [
    {
     "name": "stdout",
     "output_type": "stream",
     "text": [
      "dict_keys(['val_acc', 'acc', 'loss', 'val_loss'])\n"
     ]
    }
   ],
   "source": [
    "print(history.history.keys())"
   ]
  },
  {
   "cell_type": "code",
   "execution_count": 15,
   "metadata": {},
   "outputs": [
    {
     "data": {
      "image/png": "[encoded data removed]",
      "text/plain": [
       "<matplotlib.figure.Figure at 0x7f0e542be860>"
      ]
     },
     "metadata": {},
     "output_type": "display_data"
    }
   ],
   "source": [
    "# summarize history for accuracy\n",
    "plt.plot(history.history['acc'])\n",
    "plt.plot(history.history['val_acc'])\n",
    "plt.title('model accuracy')\n",
    "plt.ylabel('accuracy')\n",
    "plt.xlabel('epoch')\n",
    "plt.legend(['train', 'test'], loc='lower right')\n",
    "plt.show()"
   ]
  },
  {
   "cell_type": "code",
   "execution_count": 16,
   "metadata": {},
   "outputs": [
    {
     "data": {
      "image/png": "[encoded data removed]",
      "text/plain": [
       "<matplotlib.figure.Figure at 0x7f0eb9eb79e8>"
      ]
     },
     "metadata": {},
     "output_type": "display_data"
    }
   ],
   "source": [
    "# summarize history for loss\n",
    "plt.plot(history.history['loss'])\n",
    "plt.plot(history.history['val_loss'])\n",
    "plt.title('model loss')\n",
    "plt.ylabel('loss')\n",
    "plt.xlabel('epoch')\n",
    "plt.legend(['train', 'test'], loc='lower right')\n",
    "plt.show()"
   ]
  },
  {
   "cell_type": "code",
   "execution_count": 17,
   "metadata": {},
   "outputs": [
    {
     "name": "stderr",
     "output_type": "stream",
     "text": [
      "  0%|          | 6/15610 [00:00<04:43, 54.99it/s]"
     ]
    },
    {
     "name": "stdout",
     "output_type": "stream",
     "text": [
      "Exporting predictions..\n"
     ]
    },
    {
     "name": "stderr",
     "output_type": "stream",
     "text": [
      "100%|██████████| 15610/15610 [02:58<00:00, 87.66it/s]\n"
     ]
    }
   ],
   "source": [
    "import warnings\n",
    "from os.path import split\n",
    "\n",
    "print( \"Exporting predictions..\")\n",
    "with open(path+\"sample_submission.csv\",\"w\") as f:\n",
    "    with warnings.catch_warnings():\n",
    "        f.write(\"Image,Id\\n\")\n",
    "        warnings.filterwarnings(\"ignore\",category=DeprecationWarning)\n",
    "        for image in tqdm(test_images):\n",
    "            img = ImportImage( image)\n",
    "            x = img.astype( \"float32\")\n",
    "            #applying preprocessing to test images\n",
    "            x = image_gen.standardize( x.reshape(1,SIZE,SIZE,3))\n",
    "            y = model.predict_proba(x.reshape(1,SIZE,SIZE,3))\n",
    "            predicted_args = np.argsort(y)[0][::-1][:5]\n",
    "            predicted_tags = lohe.inverse_labels( predicted_args)\n",
    "            image = split(image)[-1]\n",
    "            predicted_tags = \" \".join( predicted_tags)\n",
    "            f.write(\"%s,%s\\n\" %(image, predicted_tags))"
   ]
  },
  {
   "cell_type": "code",
   "execution_count": null,
   "metadata": {},
   "outputs": [],
   "source": []
  }
 ],
 "metadata": {
  "kernelspec": {
   "display_name": "Python 3",
   "language": "python",
   "name": "python3"
  },
  "language_info": {
   "codemirror_mode": {
    "name": "ipython",
    "version": 3
   },
   "file_extension": ".py",
   "mimetype": "text/x-python",
   "name": "python",
   "nbconvert_exporter": "python",
   "pygments_lexer": "ipython3",
   "version": "3.5.4"
  }
 },
 "nbformat": 4,
 "nbformat_minor": 2
}
